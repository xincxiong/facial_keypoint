{
 "cells": [
  {
   "cell_type": "code",
   "execution_count": 3,
   "metadata": {
    "collapsed": false
   },
   "outputs": [],
   "source": [
    "import pandas as pd\n",
    "from operator import itemgetter\n",
    "import os\n",
    "from sklearn.preprocessing import LabelEncoder\n",
    "from sklearn.svm import SVC\n",
    "import time\n",
    "import numpy as np\n",
    "np.set_printoptions(threshold=np.nan)\n"
   ]
  },
  {
   "cell_type": "markdown",
   "metadata": {},
   "source": [
    "## Read Labels\n",
    "There are two csv label files in the evaluation folder,  \n",
    "**labels.csv:** contains the whole LFW dataset with 13000+ labels  \n",
    "**labels_mini.csv:** is the subset of labels.csv contains 1000 labels  "
   ]
  },
  {
   "cell_type": "code",
   "execution_count": 7,
   "metadata": {
    "collapsed": false
   },
   "outputs": [
    {
     "name": "stdout",
     "output_type": "stream",
     "text": [
      "['Aaron_Eckhart', 'Aaron_Guiel', 'Aaron_Patterson', 'Aaron_Peirsol', 'Aaron_Peirsol', 'Aaron_Peirsol', 'Aaron_Peirsol', 'Aaron_Pena', 'Aaron_Sorkin', 'Aaron_Sorkin', 'Aaron_Tippin', 'Abba_Eban', 'Abbas_Kiarostami', 'Abdel_Aziz_Al-Hakim', 'Abdel_Madi_Shabneh', 'Abdel_Nasser_Assidi', 'Abdel_Nasser_Assidi', 'Abdoulaye_Wade', 'Abdoulaye_Wade', 'Abdoulaye_Wade', 'Abdoulaye_Wade', 'Abdul_Majeed_Shobokshi', 'Abdul_Rahman', 'Abdulaziz_Kamilov', 'Abdullah', 'Abdullah', 'Abdullah', 'Abdullah', 'Abdullah_Ahmad_Badawi', 'Abdullah_al-Attiyah', 'Abdullah_al-Attiyah', 'Abdullah_al-Attiyah', 'Abdullah_Gul', 'Abdullah_Gul', 'Abdullah_Gul', 'Abdullah_Gul', 'Abdullah_Gul', 'Abdullah_Gul', 'Abdullah_Gul', 'Abdullah_Gul', 'Abdullah_Gul', 'Abdullah_Gul', 'Abdullah_Gul', 'Abdullah_Gul', 'Abdullah_Gul', 'Abdullah_Gul', 'Abdullah_Gul', 'Abdullah_Gul', 'Abdullah_Gul', 'Abdullah_Gul', 'Abdullah_Gul', 'Abdullah_Nasseef', 'Abdullatif_Sener', 'Abdullatif_Sener', 'Abel_Aguilar', 'Abel_Pacheco', 'Abel_Pacheco', 'Abel_Pacheco', 'Abel_Pacheco', 'Abid_Hamid_Mahmud_Al-Tikriti', 'Abid_Hamid_Mahmud_Al-Tikriti', 'Abid_Hamid_Mahmud_Al-Tikriti', 'Abner_Martinez', 'Abraham_Foxman', 'Aby_Har-Even', 'Adam_Ant', 'Adam_Freier', 'Adam_Herbert', 'Adam_Kennedy', 'Adam_Mair', 'Adam_Rich', 'Adam_Sandler', 'Adam_Sandler', 'Adam_Sandler', 'Adam_Sandler', 'Adam_Scott', 'Adam_Scott', 'Adel_Al-Jubeir', 'Adel_Al-Jubeir', 'Adel_Al-Jubeir', 'Adelina_Avila', 'Adisai_Bodharamik', 'Adolfo_Aguilar_Zinser', 'Adolfo_Aguilar_Zinser', 'Adolfo_Aguilar_Zinser', 'Adolfo_Rodriguez_Saa', 'Adolfo_Rodriguez_Saa', 'Adoor_Gopalakarishnan', 'Adrian_Annus', 'Adrian_Fernandez', 'Adrian_McPherson', 'Adrian_McPherson', 'Adrian_Murrell', 'Adrian_Nastase', 'Adrian_Nastase', 'Adriana_Lima', 'Adriana_Perez_Navarro', 'Adrianna_Zuzic', 'Adrien_Brody', 'Adrien_Brody', 'Adrien_Brody', 'Adrien_Brody', 'Adrien_Brody', 'Adrien_Brody', 'Adrien_Brody', 'Adrien_Brody', 'Adrien_Brody', 'Adrien_Brody', 'Adrien_Brody', 'Adrien_Brody', 'Afton_Smith', 'Agbani_Darego', 'Agnelo_Queiroz', 'Agnes_Bruckner', 'Ahmad_Jbarah', 'Ahmad_Masood', 'Ahmad_Masood', 'Ahmed_Ahmed', 'Ahmed_Chalabi', 'Ahmed_Chalabi', 'Ahmed_Chalabi', 'Ahmed_Chalabi', 'Ahmed_Chalabi', 'Ahmed_Ghazi', 'Ahmed_Ibrahim_Bilal', 'Ahmed_Lopez', 'Ahmed_Qureia', 'Ahmet_Demir', 'Ahmet_Necdet_Sezer', 'Ahmet_Necdet_Sezer', 'Ai_Sugiyama', 'Ai_Sugiyama', 'Ai_Sugiyama', 'Ai_Sugiyama', 'Ai_Sugiyama', 'Aicha_El_Ouafi', 'Aicha_El_Ouafi', 'Aicha_El_Ouafi', 'Aidan_Quinn', 'Aileen_Riggin_Soule', 'Ain_Seppik', 'Ainsworth_Dyer', 'Aishwarya_Rai', 'Aitor_Gonzalez', 'Aitor_Gonzalez', 'Aiysha_Smith', 'AJ_Cook', 'AJ_Lamas', 'Ajit_Agarkar', 'Akbar_Al_Baker', 'Akbar_Hashemi_Rafsanjani', 'Akbar_Hashemi_Rafsanjani', 'Akbar_Hashemi_Rafsanjani', 'Akhmed_Zakayev', 'Akhmed_Zakayev', 'Akhmed_Zakayev', 'Akiko_Morigami', 'Akmal_Taher', 'Al_Cardenas', 'Al_Davis', 'Al_Davis', 'Al_Gore', 'Al_Gore', 'Al_Gore', 'Al_Gore', 'Al_Gore', 'Al_Gore', 'Al_Gore', 'Al_Gore', 'Al_Leiter', 'Al_Pacino', 'Al_Pacino', 'Al_Pacino', 'Al_Sharpton', 'Al_Sharpton', 'Al_Sharpton', 'Al_Sharpton', 'Al_Sharpton', 'Al_Sharpton', 'Al_Sharpton', 'Alain_Cervantes', 'Alain_Ducasse', 'Alan_Ball', 'Alan_Ball', 'Alan_Dershowitz', 'Alan_Dreher', 'Alan_Greenspan', 'Alan_Greenspan', 'Alan_Greenspan', 'Alan_Greenspan', 'Alan_Greenspan', 'Alan_Greer', 'Alan_Jackson', 'Alan_Mulally', 'Alan_Mulally', 'Alan_Stonecipher', 'Alan_Tang_Kwong-wing', 'Alan_Trammell', 'Alan_Zemaitis', 'Alanis_Morissette', 'Alanna_Ubach', 'Alastair_Campbell', 'Alastair_Campbell', 'Alastair_Campbell', 'Alastair_Campbell', 'Alastair_Campbell', 'Alastair_Johnston', 'Albaro_Recoba', 'Albert_Brooks', 'Albert_Costa', 'Albert_Costa', 'Albert_Costa', 'Albert_Costa', 'Albert_Costa', 'Albert_Costa', 'Albert_Montanes', 'Albert_Pujols', 'Alberta_Lee', 'Alberto_Acosta', 'Alberto_Fujimori', 'Alberto_Fujimori', 'Alberto_Gonzales', 'Alberto_Ruiz_Gallardon', 'Alberto_Ruiz_Gallardon', 'Alberto_Sordi', 'Albrecht_Mentz', 'Albrecht_Mentz', 'Aldo_Paredes', 'Aldo_Paredes', 'Alec_Baldwin', 'Alec_Baldwin', 'Alec_Baldwin', 'Alec_Baldwin', 'Alecos_Markides', 'Alejandro_Atchugarry', 'Alejandro_Atchugarry', 'Alejandro_Avila', 'Alejandro_Avila', 'Alejandro_Avila', 'Alejandro_Fernandez', 'Alejandro_Gonzalez_Inarritu', 'Alejandro_Lembo', 'Alejandro_Lerner', 'Alejandro_Lopez', 'Alejandro_Toledo', 'Alejandro_Toledo', 'Alejandro_Toledo', 'Alejandro_Toledo', 'Alejandro_Toledo', 'Alejandro_Toledo', 'Alejandro_Toledo', 'Alejandro_Toledo', 'Alejandro_Toledo', 'Alejandro_Toledo', 'Alejandro_Toledo', 'Alejandro_Toledo', 'Alejandro_Toledo', 'Alejandro_Toledo', 'Alejandro_Toledo', 'Alejandro_Toledo', 'Alejandro_Toledo', 'Alejandro_Toledo', 'Alejandro_Toledo', 'Alejandro_Toledo', 'Alejandro_Toledo', 'Alejandro_Toledo', 'Alejandro_Toledo', 'Alejandro_Toledo', 'Alejandro_Toledo', 'Alejandro_Toledo', 'Alejandro_Toledo', 'Alejandro_Toledo', 'Alejandro_Toledo', 'Alejandro_Toledo', 'Alejandro_Toledo', 'Alejandro_Toledo', 'Alejandro_Toledo', 'Alejandro_Toledo', 'Alejandro_Toledo', 'Alejandro_Toledo', 'Alejandro_Toledo', 'Alejandro_Toledo', 'Alejandro_Toledo', 'Alek_Wek', 'Aleksander_Kwasniewski', 'Aleksander_Kwasniewski', 'Aleksander_Kwasniewski', 'Aleksander_Kwasniewski', 'Aleksander_Voloshin', 'Alessandra_Cerna', 'Alessandro_Nesta', 'Alex_Barros', 'Alex_Barros', 'Alex_Cabrera', 'Alex_Cejka', 'Alex_Corretja', 'Alex_Ferguson', 'Alex_Gonzalez', 'Alex_Holmes', 'Alex_King', 'Alex_Penelas', 'Alex_Penelas', 'Alex_Popov', 'Alex_Sink', 'Alex_Sink', 'Alex_Sink', 'Alex_Wallau', 'Alex_Zanardi', 'Alexa_Loren', 'Alexa_Vega', 'Alexander_Downer', 'Alexander_Downer', 'Alexander_Downer', 'Alexander_Downer', 'Alexander_Losyukov', 'Alexander_Losyukov', 'Alexander_Losyukov', 'Alexander_Losyukov', 'Alexander_Lukashenko', 'Alexander_Payne', 'Alexander_Rumyantsev', 'Alexander_Rumyantsev', 'Alexandra_Jackson', 'Alexandra_Pelosi', 'Alexandra_Rozovskaya', 'Alexandra_Spann', 'Alexandra_Stevenson', 'Alexandra_Stevenson', 'Alexandra_Stevenson', 'Alexandra_Vodjanikova', 'Alexandra_Vodjanikova', 'Alexandre_Daigle', 'Alexandre_Despatie', 'Alexandre_Herchcovitch', 'Alexandre_Vinokourov', 'Alexis_Bledel', 'Alexis_Dennisoff', 'Alfonso_Cuaron', 'Alfonso_Portillo', 'Alfonso_Soriano', 'Alfred_Ford', 'Alfred_Sant', 'Alfredo_di_Stefano', 'Alfredo_Moreno', 'Alfredo_Pena', 'Ali_Abbas', 'Ali_Abbas', 'Ali_Abdullah_Saleh', 'Ali_Adbul_Karim_Madani', 'Ali_Ahmeti', 'Ali_Bin_Hussein', 'Ali_Fallahian', 'Ali_Hammoud', 'Ali_Khamenei', 'Ali_Khamenei', 'Ali_Khamenei', 'Ali_Mohammed_Maher', 'Ali_Naimi', 'Ali_Naimi', 'Ali_Naimi', 'Ali_Naimi', 'Ali_Naimi', 'Ali_Naimi', 'Ali_Naimi', 'Ali_Naimi', 'Alice_Fisher', 'Alice_Fisher', 'Alicia_Hollowell', 'Alicia_Keys', 'Alicia_Molik', 'Alicia_Silverstone', 'Alicia_Silverstone', 'Alicia_Witt', 'Alimzhan_Tokhtakhounov', 'Alimzhan_Tokhtakhounov', 'Alina_Kabaeva', 'Aline_Chretien', 'Alisha_Richman', 'Alison_Krauss', 'Alison_Lohman', 'Alison_Lohman', 'Alistair_MacDonald', 'Allan_Houston', 'Allan_Kemakeza', 'Allan_Wagner', 'Allen_Iverson', 'Allen_Iverson', 'Allen_Rock', 'Allison_Janney', 'Allison_Janney', 'Allison_Searing', 'Ally_Sheedy', 'Allyson_Felix', 'Allyson_Felix', 'Allyson_Felix', 'Allyson_Felix', 'Allyson_Felix', 'Alma_Powell', 'Almeida_Baptista', 'Alonzo_Mourning', 'Alvaro_Noboa', 'Alvaro_Noboa', 'Alvaro_Noboa', 'Alvaro_Silva_Calderon', 'Alvaro_Silva_Calderon', 'Alvaro_Silva_Calderon', 'Alvaro_Silva_Calderon', 'Alvaro_Uribe', 'Alvaro_Uribe', 'Alvaro_Uribe', 'Alvaro_Uribe', 'Alvaro_Uribe', 'Alvaro_Uribe', 'Alvaro_Uribe', 'Alvaro_Uribe', 'Alvaro_Uribe', 'Alvaro_Uribe', 'Alvaro_Uribe', 'Alvaro_Uribe', 'Alvaro_Uribe', 'Alvaro_Uribe', 'Alvaro_Uribe', 'Alvaro_Uribe', 'Alvaro_Uribe', 'Alvaro_Uribe', 'Alvaro_Uribe', 'Alvaro_Uribe', 'Alvaro_Uribe', 'Alvaro_Uribe', 'Alvaro_Uribe', 'Alvaro_Uribe', 'Alvaro_Uribe', 'Alvaro_Uribe', 'Alvaro_Uribe', 'Alvaro_Uribe', 'Alvaro_Uribe', 'Alvaro_Uribe', 'Alvaro_Uribe', 'Alvaro_Uribe', 'Alvaro_Uribe', 'Alvaro_Uribe', 'Alvaro_Uribe', 'Aly_Wagner', 'Alyse_Beaupre', 'Alyson_Hannigan', 'Amanda_Beard', 'Amanda_Beard', 'Amanda_Bynes', 'Amanda_Bynes', 'Amanda_Bynes', 'Amanda_Bynes', 'Amanda_Coetzer', 'Amanda_Coetzer', 'Amanda_Marsh', 'Amanda_Plumer', 'Amber_Frey', 'Amber_Tamblyn', 'Amber_Tamblyn', 'Ambrose_Lee', 'Amelia_Vega', 'Amelia_Vega', 'Amelia_Vega', 'Amelia_Vega', 'Amelia_Vega', 'Amelia_Vega', 'Amelia_Vega', 'Amelie_Mauresmo', 'Amelie_Mauresmo', 'Amelie_Mauresmo', 'Amelie_Mauresmo', 'Amelie_Mauresmo', 'Amelie_Mauresmo', 'Amelie_Mauresmo', 'Amelie_Mauresmo', 'Amelie_Mauresmo', 'Amelie_Mauresmo', 'Amelie_Mauresmo', 'Amelie_Mauresmo', 'Amelie_Mauresmo', 'Amelie_Mauresmo', 'Amelie_Mauresmo', 'Amelie_Mauresmo', 'Amelie_Mauresmo', 'Amelie_Mauresmo', 'Amelie_Mauresmo', 'Amelie_Mauresmo', 'Amelie_Mauresmo', 'Amer_al-Saadi', 'Amer_al-Saadi', 'Amer_al-Saadi', 'Amer_al-Saadi', 'Amporn_Falise', 'Amr_Moussa', 'Amram_Mitzna', 'Amram_Mitzna', 'Amy_Brenneman', 'Amy_Cotton', 'Amy_Gale', 'Amy_Pascal', 'Amy_Redford', 'Amy_Smart', 'Amy_Yasbeck', 'Ana_Claudia_Talancon', 'Ana_Guevara', 'Ana_Guevara', 'Ana_Guevara', 'Ana_Guevara', 'Ana_Guevara', 'Ana_Guevara', 'Ana_Guevara', 'Ana_Isabel_Sanchez', 'Ana_Palacio', 'Ana_Palacio', 'Ana_Palacio', 'Ana_Palacio', 'Ana_Palacio', 'Ana_Palacio', 'Ana_Palacio', 'Ana_Palacio', 'Ana_Paula_Gerard', 'Ana_Sebastiao', 'Anastasia_Kelesidou', 'Anastasia_Myskina', 'Anastasia_Myskina', 'Anastasia_Myskina', 'Anatoliy_Kinakh', 'Anders_Ebbeson', 'Anders_Ebbeson', 'Anders_Ebbeson', 'Anders_Fogh_Rasmussen', 'Anders_Fogh_Rasmussen', 'Anders_Fogh_Rasmussen', 'Anders_Fogh_Rasmussen', 'Anderson_Varejao', 'Andre_Agassi', 'Andre_Agassi', 'Andre_Agassi', 'Andre_Agassi', 'Andre_Agassi', 'Andre_Agassi', 'Andre_Agassi', 'Andre_Agassi', 'Andre_Agassi', 'Andre_Agassi', 'Andre_Agassi', 'Andre_Agassi', 'Andre_Agassi', 'Andre_Agassi', 'Andre_Agassi', 'Andre_Agassi', 'Andre_Agassi', 'Andre_Agassi', 'Andre_Agassi', 'Andre_Agassi', 'Andre_Agassi', 'Andre_Agassi', 'Andre_Agassi', 'Andre_Agassi', 'Andre_Agassi', 'Andre_Agassi', 'Andre_Agassi', 'Andre_Agassi', 'Andre_Agassi', 'Andre_Agassi', 'Andre_Agassi', 'Andre_Agassi', 'Andre_Agassi', 'Andre_Agassi', 'Andre_Agassi', 'Andre_Agassi', 'Andre_Bucher', 'Andre_Lange', 'Andre_Smith', 'Andre_Techine', 'Andrea_Bocelli', 'Andrea_De_Cruz', 'Andrea_Kiser', 'Andrea_Yates', 'Andreas_Vinciguerra', 'Andrei_Konchalovsky', 'Andrei_Mikhnevich', 'Andrei_Mikhnevich', 'Andrei_Nikolishin', 'Andres_DAlessandro', 'Andres_Manuel_Lopez_Obrador', 'Andres_Pastrana', 'Andrew_Bernard', 'Andrew_Bunner', 'Andrew_Bunner', 'Andrew_Caldecott', 'Andrew_Cuomo', 'Andrew_Cuomo', 'Andrew_Fastow', 'Andrew_Firestone', 'Andrew_Gilligan', 'Andrew_Jarecki', 'Andrew_Luster', 'Andrew_Niccol', 'Andrew_Niccol', 'Andrew_Sabey', 'Andrew_Shutley', 'Andrew_Weissmann', 'Andrew_Weissmann', 'Andrew_Weissmann', 'Andrew_Wetzler', 'Andrzej_Tyszkiewicz', 'Andy_Benes', 'Andy_Bryant', 'Andy_Dick', 'Andy_Garcia', 'Andy_Graves', 'Andy_Griffith', 'Andy_Griggs', 'Andy_Hebb', 'Andy_Hebb', 'Andy_Lau', 'Andy_Madikians', 'Andy_North', 'Andy_Perez', 'Andy_Roddick', 'Andy_Roddick', 'Andy_Roddick', 'Andy_Roddick', 'Andy_Roddick', 'Andy_Roddick', 'Andy_Roddick', 'Andy_Roddick', 'Andy_Roddick', 'Andy_Roddick', 'Andy_Roddick', 'Andy_Roddick', 'Andy_Roddick', 'Andy_Roddick', 'Andy_Roddick', 'Andy_Rooney', 'Andy_Warhol', 'Andy_Wisecarver', 'Anette_Hosoi', 'AnFernce_Negron', 'Angel_Lockward', 'Angel_Maza', 'Angela_Alvarado_Rosa', 'Angela_Bassett', 'Angela_Bassett', 'Angela_Bassett', 'Angela_Bassett', 'Angela_Bassett', 'Angela_Bassett', 'Angela_Lansbury', 'Angela_Lansbury', 'Angela_Mascia-Frye', 'Angela_Merkel', 'Angela_Merkel', 'Angela_Merkel', 'Angela_Merkel', 'Angela_Merkel', 'Angelica_Romero', 'Angelina_Jolie', 'Angelina_Jolie', 'Angelina_Jolie', 'Angelina_Jolie', 'Angelina_Jolie', 'Angelina_Jolie', 'Angelina_Jolie', 'Angelina_Jolie', 'Angelina_Jolie', 'Angelina_Jolie', 'Angelina_Jolie', 'Angelina_Jolie', 'Angelina_Jolie', 'Angelina_Jolie', 'Angelina_Jolie', 'Angelina_Jolie', 'Angelina_Jolie', 'Angelina_Jolie', 'Angelina_Jolie', 'Angelina_Jolie', 'Angelo_Genova', 'Angelo_Reyes', 'Angelo_Reyes', 'Angelo_Reyes', 'Angelo_Reyes', 'Angie_Arzola', 'Angie_Martinez', 'Anibal_Ibarra', 'Anibal_Ibarra', 'Anibal_Ibarra', 'Anil_Ramsook', 'Anita_DeFrantz', 'Anja_Paerson', 'Anjum_Hussain', 'Ann_Godbehere', 'Ann_Landers', 'Ann_Morgan', 'Ann_Veneman', 'Ann_Veneman', 'Ann_Veneman', 'Ann_Veneman', 'Ann_Veneman', 'Ann_Veneman', 'Ann_Veneman', 'Ann_Veneman', 'Ann_Veneman', 'Ann_Veneman', 'Ann_Veneman', 'Anna_Chicherova', 'Anna_Faris', 'Anna_Jones', 'Anna_Kournikova', 'Anna_Kournikova', 'Anna_Kournikova', 'Anna_Kournikova', 'Anna_Kournikova', 'Anna_Kournikova', 'Anna_Kournikova', 'Anna_Kournikova', 'Anna_Kournikova', 'Anna_Kournikova', 'Anna_Kournikova', 'Anna_Kournikova', 'Anna_Nicole_Smith', 'Anna_Nicole_Smith', 'Anne_Cavers', 'Anne_Donovan', 'Anne_Heche', 'Anne_Krueger', 'Anne_Krueger', 'Anne_Krueger', 'Anne_McLellan', 'Anne_McLellan', 'Anne_McLellan', 'Anne_ONeil', 'Anneli_Jaatteenmaki', 'Anneli_Jaatteenmaki', 'Annette_Bening', 'Annette_Bening', 'Annette_Lu', 'Annette_Lu', 'Annette_Lu', 'Annie-Jeanne_Reynaud', 'Annie_Chaplin', 'Annie_Machon', 'Annika_Sorenstam', 'Antanas_Valionis', 'Anthony_Carter', 'Anthony_Corso', 'Anthony_Ervin', 'Anthony_Fauci', 'Anthony_Fauci', 'Anthony_Garotinho', 'Anthony_Hazen', 'Anthony_Hopkins', 'Anthony_Hopkins', 'Anthony_LaPaglia', 'Anthony_LaPaglia', 'Anthony_Lee_Johnson', 'Anthony_Mazur', 'Anthony_Pico', 'Anthony_Pisciotti', 'Anthony_Principi', 'Anthony_Rackauckas', 'Anthony_Scott_Miller', 'Antje_Buschschulte', 'Anton_Balasingham', 'Antonio_Banderas', 'Antonio_Banderas', 'Antonio_Banderas', 'Antonio_Banderas', 'Antonio_Banderas', 'Antonio_Bernardo', 'Antonio_Cassano', 'Antonio_Catania', 'Antonio_Elias_Saca', 'Antonio_Palocci', 'Antonio_Palocci', 'Antonio_Palocci', 'Antonio_Palocci', 'Antonio_Palocci', 'Antonio_Palocci', 'Antonio_Palocci', 'Antonio_Palocci', 'Antonio_Trillanes', 'Antonio_Trillanes', 'Antonio_Trillanes', 'Antony_Leung', 'Antony_Leung', 'Antony_Leung', 'Antony_Leung', 'Antwun_Echols', 'Anwar_Ibrahim', 'Anwar_Ibrahim', 'Anzori_Kikalishvili', 'Aparna_Pillai', 'Aram_Adler', 'Arantxa_Sanchez-Vicario', 'Arantxa_Sanchez-Vicario', 'Aretha_Franklin', 'Ari_Bousbib', 'Ari_Fleischer', 'Ari_Fleischer', 'Ari_Fleischer', 'Ari_Fleischer', 'Ari_Fleischer', 'Ari_Fleischer', 'Ari_Fleischer', 'Ari_Fleischer', 'Ari_Fleischer', 'Ari_Fleischer', 'Ari_Fleischer', 'Ari_Fleischer', 'Ari_Fleischer', 'Arianna_Huffington', 'Arianna_Huffington', 'Arianna_Huffington', 'Arianna_Huffington', 'Arie_Haan', 'Ariel_Sharon', 'Ariel_Sharon', 'Ariel_Sharon', 'Ariel_Sharon', 'Ariel_Sharon', 'Ariel_Sharon', 'Ariel_Sharon', 'Ariel_Sharon', 'Ariel_Sharon', 'Ariel_Sharon', 'Ariel_Sharon', 'Ariel_Sharon', 'Ariel_Sharon', 'Ariel_Sharon', 'Ariel_Sharon', 'Ariel_Sharon', 'Ariel_Sharon', 'Ariel_Sharon', 'Ariel_Sharon', 'Ariel_Sharon', 'Ariel_Sharon', 'Ariel_Sharon', 'Ariel_Sharon', 'Ariel_Sharon', 'Ariel_Sharon', 'Ariel_Sharon', 'Ariel_Sharon', 'Ariel_Sharon', 'Ariel_Sharon', 'Ariel_Sharon', 'Ariel_Sharon', 'Ariel_Sharon', 'Ariel_Sharon', 'Ariel_Sharon', 'Ariel_Sharon', 'Ariel_Sharon', 'Ariel_Sharon', 'Ariel_Sharon', 'Ariel_Sharon', 'Ariel_Sharon', 'Ariel_Sharon', 'Ariel_Sharon', 'Ariel_Sharon', 'Ariel_Sharon', 'Ariel_Sharon', 'Ariel_Sharon', 'Ariel_Sharon', 'Ariel_Sharon', 'Ariel_Sharon', 'Ariel_Sharon', 'Ariel_Sharon', 'Ariel_Sharon', 'Ariel_Sharon', 'Ariel_Sharon', 'Ariel_Sharon', 'Ariel_Sharon', 'Ariel_Sharon', 'Ariel_Sharon', 'Ariel_Sharon', 'Ariel_Sharon', 'Ariel_Sharon', 'Ariel_Sharon', 'Ariel_Sharon', 'Ariel_Sharon', 'Ariel_Sharon', 'Ariel_Sharon', 'Ariel_Sharon', 'Ariel_Sharon', 'Ariel_Sharon', 'Ariel_Sharon', 'Ariel_Sharon', 'Ariel_Sharon', 'Ariel_Sharon', 'Ariel_Sharon', 'Ariel_Sharon', 'Ariel_Sharon', 'Ariel_Sharon', 'Arif_Mardin', 'Arlen_Specter', 'Arlen_Specter', 'Arlen_Specter', 'Armand_Sargen', 'Armando_Avila_Panchame', 'Armando_Calderon_Sol', 'Armando_Carrillo', 'Arminio_Fraga', 'Arminio_Fraga', 'Arminio_Fraga', 'Arminio_Fraga', 'Arminio_Fraga', 'Arminio_Fraga', 'Arnaud_Clement', 'Arnaud_Clement', 'Arnaud_Lagardere', 'Arnie_Boehm', 'Arnold_Palmer', 'Arnold_Palmer', 'Arnold_Palmer', 'Arnold_Schwarzenegger', 'Arnold_Schwarzenegger', 'Arnold_Schwarzenegger', 'Arnold_Schwarzenegger', 'Arnold_Schwarzenegger', 'Arnold_Schwarzenegger', 'Arnold_Schwarzenegger', 'Arnold_Schwarzenegger', 'Arnold_Schwarzenegger', 'Arnold_Schwarzenegger', 'Arnold_Schwarzenegger', 'Arnold_Schwarzenegger', 'Arnold_Schwarzenegger', 'Arnold_Schwarzenegger', 'Arnold_Schwarzenegger', 'Arnold_Schwarzenegger', 'Arnold_Schwarzenegger', 'Arnold_Schwarzenegger', 'Arnold_Schwarzenegger', 'Arnold_Schwarzenegger', 'Arnold_Schwarzenegger', 'Arnold_Schwarzenegger', 'Arnold_Schwarzenegger', 'Arnold_Schwarzenegger', 'Arnold_Schwarzenegger', 'Arnold_Schwarzenegger', 'Arnold_Schwarzenegger', 'Arnold_Schwarzenegger', 'Arnold_Schwarzenegger', 'Arnold_Schwarzenegger', 'Arnold_Schwarzenegger', 'Arnold_Schwarzenegger', 'Arnold_Schwarzenegger', 'Arnold_Schwarzenegger', 'Arnold_Schwarzenegger', 'Arnold_Schwarzenegger', 'Arnold_Schwarzenegger', 'Arnold_Schwarzenegger', 'Arnold_Schwarzenegger', 'Arnold_Schwarzenegger', 'Arnold_Schwarzenegger', 'Arnold_Schwarzenegger', 'Arnold_Scott', 'Arnoldo_Aleman', 'Arnoldo_Aleman', 'Arnoldo_Aleman', 'Arnoldo_Aleman', 'Arnoldo_Aleman', 'Aron_Ralston', 'Aron_Ralston', 'Arsinee_Khanjian', 'Arsinee_Khanjian', 'Art_Cooper', 'Art_Hoffmann', 'Art_Hoffmann', 'Art_Howe', 'Art_Howe', 'Art_Howe', 'Art_Howe', 'Art_Lopez', 'Arthur_Johnson', 'Arthur_Martinez', 'Artieas_Shanks', 'Arturo_Gatti', 'Arturo_Gatti', 'Arturo_Gatti', 'Arye_Mekel', 'Arye_Mekel', 'Asa_Hutchinson', 'Asa_Hutchinson', 'Ascencion_Barajas', 'Ashanti', 'Ashanti', 'Ashanti', 'Ashanti', 'Ashanti', 'Ashlea_Talbot', 'Ashley_Judd', 'Ashley_Olsen', 'Ashley_Postell', 'Ashraf_Alasmar', 'Ashraf_Ghani', 'Ashton_Kutcher', 'Ashton_Kutcher', 'Ashton_Kutcher', 'Asif_Ali_Zardari']\n"
     ]
    }
   ],
   "source": [
    "fname = \"evaluation/labels_mini.csv\"\n",
    "labels = pd.read_csv(fname, header=None).as_matrix()[:, 1]\n",
    "labels = map(itemgetter(1),\n",
    "                 map(os.path.split,\n",
    "                     map(os.path.dirname, labels)))\n",
    "print(labels)"
   ]
  },
  {
   "cell_type": "markdown",
   "metadata": {},
   "source": [
    "## Read representaions (Labels and Reps are 1:1 mapping)\n",
    "There are two csv reps files in the evaluation folder,    \n",
    "**reps.csv:** contains the whole LFW dataset with 13000+ representations(embeddings)\n",
    "**reps_mini.csv:** is the subset of reps.csv contains 1000 representations(embeddings)"
   ]
  },
  {
   "cell_type": "code",
   "execution_count": 8,
   "metadata": {
    "collapsed": false
   },
   "outputs": [
    {
     "name": "stdout",
     "output_type": "stream",
     "text": [
      "Training for 410 classes.\n"
     ]
    }
   ],
   "source": [
    "fname = \"evaluation/reps_mini.csv\"\n",
    "embeddings = pd.read_csv(fname, header=None).as_matrix()\n",
    "le = LabelEncoder().fit(labels)\n",
    "labelsNum = le.transform(labels)\n",
    "nClasses = len(le.classes_)\n",
    "print(\"Training for {} classes.\".format(nClasses))"
   ]
  },
  {
   "cell_type": "markdown",
   "metadata": {},
   "source": [
    "## Train SVM Classifer"
   ]
  },
  {
   "cell_type": "code",
   "execution_count": 11,
   "metadata": {
    "collapsed": false
   },
   "outputs": [
    {
     "name": "stdout",
     "output_type": "stream",
     "text": [
      "('time: ', 6.746273994445801)\n"
     ]
    }
   ],
   "source": [
    "start = time.time()\n",
    "clf = SVC(C=1, kernel='linear', probability=True)\n",
    "clf.fit(embeddings, labelsNum)\n",
    "print(\"time: \", time.time() - start)"
   ]
  },
  {
   "cell_type": "markdown",
   "metadata": {},
   "source": [
    "## Get a test data from the trainning data to see the result"
   ]
  },
  {
   "cell_type": "code",
   "execution_count": 13,
   "metadata": {
    "collapsed": false
   },
   "outputs": [],
   "source": [
    "test = embeddings[0].reshape(1, -1)\n",
    "predictions = clf.predict_proba(test).ravel()"
   ]
  },
  {
   "cell_type": "code",
   "execution_count": 14,
   "metadata": {
    "collapsed": false
   },
   "outputs": [
    {
     "name": "stdout",
     "output_type": "stream",
     "text": [
      "('Arnold_Schwarzenegger', 0.025413069969826736)\n"
     ]
    }
   ],
   "source": [
    "maxI = np.argmax(predictions)\n",
    "person = labels[maxI]\n",
    "person = le.inverse_transform(maxI)\n",
    "confidence = predictions[maxI]\n",
    "print(person, confidence)"
   ]
  },
  {
   "cell_type": "markdown",
   "metadata": {},
   "source": [
    "## Train KNN and test the result"
   ]
  },
  {
   "cell_type": "code",
   "execution_count": 15,
   "metadata": {
    "collapsed": false
   },
   "outputs": [
    {
     "name": "stdout",
     "output_type": "stream",
     "text": [
      "Aaron_Eckhart\n"
     ]
    }
   ],
   "source": [
    "test = embeddings[0]\n",
    "diff = embeddings - test\n",
    "sqr = np.square(diff)\n",
    "s = np.sum(sqr, axis=1)\n",
    "m = np.ndarray.min(s)\n",
    "minimum = np.argmin(s)\n",
    "print(labels[minimum])"
   ]
  },
  {
   "cell_type": "markdown",
   "metadata": {},
   "source": [
    "## Ignore Below (Reference Code)"
   ]
  },
  {
   "cell_type": "code",
   "execution_count": null,
   "metadata": {
    "collapsed": true
   },
   "outputs": [],
   "source": [
    "def infer(args, multiple=False):\n",
    "    with open(args.classifierModel, 'rb') as f:\n",
    "        if sys.version_info[0] < 3:\n",
    "                (le, clf) = pickle.load(f)\n",
    "        else:\n",
    "                (le, clf) = pickle.load(f, encoding='latin1')\n",
    "\n",
    "    for img in args.imgs:\n",
    "        print(\"\\n=== {} ===\".format(img))\n",
    "        reps = getRep(img, multiple)\n",
    "        if len(reps) > 1:\n",
    "            print(\"List of faces in image from left to right\")\n",
    "        for r in reps:\n",
    "            rep = r[1].reshape(1, -1)\n",
    "            bbx = r[0]\n",
    "            start = time.time()\n",
    "            predictions = clf.predict_proba(rep).ravel()\n",
    "            maxI = np.argmax(predictions)\n",
    "            person = le.inverse_transform(maxI)\n",
    "            confidence = predictions[maxI]\n",
    "            if args.verbose:\n",
    "                print(\"Prediction took {} seconds.\".format(time.time() - start))\n",
    "            if multiple:\n",
    "                print(\"Predict {} @ x={} with {:.2f} confidence.\".format(person.decode('utf-8'), bbx,\n",
    "                                                                         confidence))\n",
    "            else:\n",
    "                print(\"Predict {} with {:.2f} confidence.\".format(person.decode('utf-8'), confidence))\n",
    "            if isinstance(clf, GMM):\n",
    "                dist = np.linalg.norm(rep - clf.means_[maxI])\n",
    "                print(\"  + Distance from the mean: {}\".format(dist))\n"
   ]
  },
  {
   "cell_type": "code",
   "execution_count": null,
   "metadata": {
    "collapsed": true
   },
   "outputs": [],
   "source": [
    "def train(args):\n",
    "    print(\"Loading embeddings.\")\n",
    "    fname = \"{}/labels.csv\".format(args.workDir)\n",
    "    labels = pd.read_csv(fname, header=None).as_matrix()[:, 1]\n",
    "    labels = map(itemgetter(1),\n",
    "                 map(os.path.split,\n",
    "                     map(os.path.dirname, labels)))  # Get the directory.\n",
    "    fname = \"{}/reps.csv\".format(args.workDir)\n",
    "    embeddings = pd.read_csv(fname, header=None).as_matrix()\n",
    "    le = LabelEncoder().fit(labels)\n",
    "    labelsNum = le.transform(labels)\n",
    "    nClasses = len(le.classes_)\n",
    "    print(\"Training for {} classes.\".format(nClasses))\n",
    "\n",
    "    if args.classifier == 'LinearSvm':\n",
    "        clf = SVC(C=1, kernel='linear', probability=True)\n",
    "    elif args.classifier == 'GridSearchSvm':\n",
    "        print(\"\"\"\n",
    "        Warning: In our experiences, using a grid search over SVM hyper-parameters only\n",
    "        gives marginally better performance than a linear SVM with C=1 and\n",
    "        is not worth the extra computations of performing a grid search.\n",
    "        \"\"\")\n",
    "        param_grid = [\n",
    "            {'C': [1, 10, 100, 1000],\n",
    "             'kernel': ['linear']},\n",
    "            {'C': [1, 10, 100, 1000],\n",
    "             'gamma': [0.001, 0.0001],\n",
    "             'kernel': ['rbf']}\n",
    "        ]\n",
    "        clf = GridSearchCV(SVC(C=1, probability=True), param_grid, cv=5)\n",
    "    elif args.classifier == 'GMM':  # Doesn't work best\n",
    "        clf = GMM(n_components=nClasses)\n",
    "\n",
    "    # ref:\n",
    "    # http://scikit-learn.org/stable/auto_examples/classification/plot_classifier_comparison.html#example-classification-plot-classifier-comparison-py\n",
    "    elif args.classifier == 'RadialSvm':  # Radial Basis Function kernel\n",
    "        # works better with C = 1 and gamma = 2\n",
    "        clf = SVC(C=1, kernel='rbf', probability=True, gamma=2)\n",
    "    elif args.classifier == 'DecisionTree':  # Doesn't work best\n",
    "        clf = DecisionTreeClassifier(max_depth=20)\n",
    "    elif args.classifier == 'GaussianNB':\n",
    "        clf = GaussianNB()\n",
    "\n",
    "    # ref: https://jessesw.com/Deep-Learning/\n",
    "    elif args.classifier == 'DBN':\n",
    "        from nolearn.dbn import DBN\n",
    "        clf = DBN([embeddings.shape[1], 500, labelsNum[-1:][0] + 1],  # i/p nodes, hidden nodes, o/p nodes\n",
    "                  learn_rates=0.3,\n",
    "                  # Smaller steps mean a possibly more accurate result, but the\n",
    "                  # training will take longer\n",
    "                  learn_rate_decays=0.9,\n",
    "                  # a factor the initial learning rate will be multiplied by\n",
    "                  # after each iteration of the training\n",
    "                  epochs=300,  # no of iternation\n",
    "                  # dropouts = 0.25, # Express the percentage of nodes that\n",
    "                  # will be randomly dropped as a decimal.\n",
    "                  verbose=1)\n",
    "\n",
    "    if args.ldaDim > 0:\n",
    "        clf_final = clf\n",
    "        clf = Pipeline([('lda', LDA(n_components=args.ldaDim)),\n",
    "                        ('clf', clf_final)])\n",
    "\n",
    "    clf.fit(embeddings, labelsNum)\n",
    "\n",
    "    fName = \"{}/classifier.pkl\".format(args.workDir)\n",
    "    print(\"Saving classifier to '{}'\".format(fName))\n",
    "    with open(fName, 'w') as f:\n",
    "        pickle.dump((le, clf), f)"
   ]
  },
  {
   "cell_type": "code",
   "execution_count": null,
   "metadata": {
    "collapsed": true
   },
   "outputs": [],
   "source": []
  }
 ],
 "metadata": {
  "kernelspec": {
   "display_name": "Python 2",
   "language": "python",
   "name": "python2"
  },
  "language_info": {
   "codemirror_mode": {
    "name": "ipython",
    "version": 2
   },
   "file_extension": ".py",
   "mimetype": "text/x-python",
   "name": "python",
   "nbconvert_exporter": "python",
   "pygments_lexer": "ipython2",
   "version": "2.7.13"
  }
 },
 "nbformat": 4,
 "nbformat_minor": 2
}
